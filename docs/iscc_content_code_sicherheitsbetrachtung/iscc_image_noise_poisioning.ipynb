{
 "cells": [
  {
   "cell_type": "code",
   "execution_count": 106,
   "id": "213ca119",
   "metadata": {},
   "outputs": [],
   "source": [
    "import matplotlib.pyplot as plt\n",
    "import math\n",
    "import numpy as np\n",
    "from matplotlib.ticker import MultipleLocator, FormatStrFormatter\n",
    "from PIL import Image\n",
    "from typing import List, Sequence\n",
    "from statistics import median\n",
    "from typing import Sequence\n",
    "from more_itertools import chunked\n",
    "import cv2"
   ]
  },
  {
   "cell_type": "code",
   "execution_count": 107,
   "id": "458393d5",
   "metadata": {},
   "outputs": [],
   "source": [
    "# ISCC dct implementation\n",
    "def alg_dct(v):\n",
    "    # type: (Sequence[float]) -> List\n",
    "    \"\"\"\n",
    "    Discrete cosine transform.\n",
    "    See: [nayuki.io](https://www.nayuki.io/page/fast-discrete-cosine-transform-algorithms).\n",
    "    :param Sequence[float] v: Input vector for DCT calculation.\n",
    "    :return: DCT Transformed vector.\n",
    "    :rtype: List\n",
    "    \"\"\"\n",
    "    n = len(v)\n",
    "    if n == 1:\n",
    "        return list(v)\n",
    "    elif n == 0 or n % 2 != 0:\n",
    "        raise ValueError()\n",
    "    else:\n",
    "        half = n // 2\n",
    "        alpha = [(v[i] + v[-(i + 1)]) for i in range(half)]\n",
    "        beta = [\n",
    "            (v[i] - v[-(i + 1)]) / (math.cos((i + 0.5) * math.pi / n) * 2.0) for i in range(half)\n",
    "        ]\n",
    "        alpha = alg_dct(alpha)\n",
    "        beta = alg_dct(beta)\n",
    "        result = []\n",
    "        for i in range(half - 1):\n",
    "            result.append(alpha[i])\n",
    "            result.append(beta[i] + beta[i + 1])\n",
    "        result.append(alpha[-1])\n",
    "        result.append(beta[-1])\n",
    "        return result"
   ]
  },
  {
   "cell_type": "code",
   "execution_count": 108,
   "id": "ab17f147",
   "metadata": {},
   "outputs": [],
   "source": [
    "# ISCC content code for images\n",
    "def soft_hash_image_v0(pixels, bits=64):\n",
    "    # type: (Sequence[int], int) -> bytes\n",
    "    \"\"\"\n",
    "    Calculate image hash from normalized grayscale pixel sequence of length 1024.\n",
    "\n",
    "    :param Sequence[int] pixels:\n",
    "    :param int bits: Bit-length of image hash (default 64).\n",
    "    :return: Similarity preserving Image-Hash digest.\n",
    "    :rtype: bytes\n",
    "    \"\"\"\n",
    "    if not bits <= 256:\n",
    "        raise AssertionError(f\"{bits} bits exeeds max lenght 256 for soft_hash_image\")\n",
    "\n",
    "    # DCT per row\n",
    "    dct_row_lists = []\n",
    "    for pixel_list in chunked(pixels, 32):\n",
    "        dct_row_lists.append(alg_dct(pixel_list))\n",
    "\n",
    "    # DCT per col\n",
    "    dct_row_lists_t = list(map(list, zip(*dct_row_lists)))\n",
    "    dct_col_lists_t = []\n",
    "    for dct_list in dct_row_lists_t:\n",
    "        dct_col_lists_t.append(alg_dct(dct_list))\n",
    "\n",
    "    dct_matrix = list(map(list, zip(*dct_col_lists_t)))\n",
    "\n",
    "    def flatten(m, x, y):\n",
    "        \"\"\"Extract and flatten an 8 x 8 slice from a 2d matrix starting at col/row.\"\"\"\n",
    "        return [v for sublist in m[y : y + 8] for v in sublist[x : x + 8]]\n",
    "\n",
    "    bitstring = \"\"\n",
    "    slices = ((0, 0), (1, 0), (0, 1), (1, 1))\n",
    "\n",
    "    for xy in slices:\n",
    "        # Extract 8 x 8 slice\n",
    "        flat_list = flatten(dct_matrix, *xy)\n",
    "        # Calculate median\n",
    "        med = median(flat_list)\n",
    "        # Append 64-bit digest by comparing to median\n",
    "        for value in flat_list:\n",
    "            if value > med:\n",
    "                bitstring += \"1\"\n",
    "            else:\n",
    "                bitstring += \"0\"\n",
    "        bl = len(bitstring)\n",
    "        if bl >= bits:\n",
    "            hash_digest = int(bitstring, 2).to_bytes(bl // 8, \"big\", signed=False)\n",
    "            return bitstring"
   ]
  },
  {
   "cell_type": "code",
   "execution_count": 109,
   "id": "14834f83",
   "metadata": {},
   "outputs": [],
   "source": [
    "def get_iscc_image_code(img):\n",
    "    # Replace background color from transparent to white\n",
    "    white_bg = Image.new(\"RGBA\", img.size, (255, 255, 255, 255))\n",
    "    img = Image.alpha_composite(white_bg, img.convert(\"RGBA\"))\n",
    "    # Convert image to greyscale\n",
    "    img_greyscale = img.convert('L')\n",
    "    # Resize the greyscale image to 32x32 pixels\n",
    "    img_32x32 = img_greyscale.resize((32,32),Image.BICUBIC)\n",
    "    # Load pixels\n",
    "    pixels: list[int] = list(img_32x32.getdata())\n",
    "    return soft_hash_image_v0(pixels)"
   ]
  },
  {
   "cell_type": "code",
   "execution_count": 110,
   "id": "69ba2883",
   "metadata": {},
   "outputs": [],
   "source": [
    "# Hamming distnace\n",
    "relevant_bits = 64\n",
    "def hamming_distance(bitstring1, bitstring2):\n",
    "    count = 0\n",
    "    for i in range (relevant_bits):\n",
    "        if bitstring1[i] != bitstring2[i]:\n",
    "            count += 1\n",
    "    return count"
   ]
  },
  {
   "cell_type": "code",
   "execution_count": 111,
   "id": "f4f536b7",
   "metadata": {},
   "outputs": [
    {
     "name": "stdout",
     "output_type": "stream",
     "text": [
      "(1024, 1024)\n"
     ]
    }
   ],
   "source": [
    "# Load original image\n",
    "original_img = cv2.imread(\"./images/fox-gpt-image-1.png\", 0)\n",
    "print(original_img.shape)"
   ]
  },
  {
   "cell_type": "code",
   "execution_count": 112,
   "id": "24ae3ccf",
   "metadata": {},
   "outputs": [],
   "source": [
    "# Creaet ISCC form original image\n",
    "original_iscc = get_iscc_image_code(Image.fromarray(original_img))"
   ]
  },
  {
   "cell_type": "code",
   "execution_count": 113,
   "id": "8bd23ec2",
   "metadata": {},
   "outputs": [],
   "source": [
    "def interpolation(img, alpha):\n",
    "    hight, width = img.shape\n",
    "    # Gaußsches Rauschen erzeugen\n",
    "    noise = np.random.normal(0, 255, (hight, width)).astype(np.float32)\n",
    "    # Normalisieren auf [0, 1]\n",
    "    noise = cv2.normalize(noise, None, 0, 1.0, cv2.NORM_MINMAX)\n",
    "    # In [0, 255]\n",
    "    noise = (noise * 255).astype(np.uint8)\n",
    "    # Mischung aus Original und Rauschen\n",
    "    noisy_img_vector = cv2.addWeighted(img, 1 - alpha, noise, alpha, 0)\n",
    "    noisy_img = Image.fromarray(noisy_img_vector)\n",
    "    noisy_img.save(f\"./poisioning/interpolation/interpolation_{alpha}.png\")\n",
    "    return noisy_img"
   ]
  },
  {
   "cell_type": "code",
   "execution_count": 114,
   "id": "97d8da65",
   "metadata": {},
   "outputs": [],
   "source": [
    "def additive(img, alpha):\n",
    "    hight, width = img.shape\n",
    "    # Gaußsches Rauschen erzeugen (Mittelwert = 0, Std = 255*alpha)\n",
    "    noise = np.random.normal(0, 255 * alpha, (hight, width)).astype(np.float32)\n",
    "    # Zum Bild addieren\n",
    "    noisy_img = img.astype(np.float32) + noise\n",
    "    # Begrenzen auf [0,255]\n",
    "    noisy_img_vector = np.clip(noisy_img, 0, 255).astype(np.uint8)\n",
    "    noisy_img = Image.fromarray(noisy_img_vector)\n",
    "    noisy_img.save(f\"./poisioning/additive/additive_{alpha}.png\")\n",
    "    return noisy_img"
   ]
  },
  {
   "cell_type": "code",
   "execution_count": 115,
   "id": "11a2b700",
   "metadata": {},
   "outputs": [],
   "source": [
    "# alpha = 0 -> Originalbild\n",
    "# alpha = 1 -> komplett weißes Bild (maximales Rauschen)\n",
    "alphas = [0.0, 0.05, 0.1, 0.15, 0.2, 0.25, 0.3, 0.35, 0.4, 0.45, 0.5, 0.55, 0.6, 0.65, 0.7, 0.75, 0.8, 0.85, 0.9, 0.95, 1.0]"
   ]
  },
  {
   "cell_type": "code",
   "execution_count": 116,
   "id": "33c915ab",
   "metadata": {},
   "outputs": [],
   "source": [
    "# create images for interpolation and additive\n",
    "i_images = []\n",
    "a_images = []\n",
    "for alpha in alphas:\n",
    "    i_images.append(interpolation(original_img, alpha))\n",
    "    a_images.append(additive(original_img, alpha))"
   ]
  },
  {
   "cell_type": "code",
   "execution_count": 117,
   "id": "7e316d04",
   "metadata": {},
   "outputs": [],
   "source": [
    "# add labels to image arrays\n",
    "interpolation_images = []\n",
    "interpolation_images.append(i_images)\n",
    "interpolation_images.append(\"interpolation\")\n",
    "additive_images = []\n",
    "additive_images.append(a_images)\n",
    "additive_images.append(\"additive\")"
   ]
  },
  {
   "cell_type": "code",
   "execution_count": 118,
   "id": "1f6b61c8",
   "metadata": {},
   "outputs": [],
   "source": [
    "def compare_iscc_images(original_iscc, test_images, alphas):\n",
    "    data = []\n",
    "    simularity = []\n",
    "    for img in test_images[0]:\n",
    "        iscc = get_iscc_image_code(img)\n",
    "        distance = hamming_distance(original_iscc, iscc)\n",
    "        simularity.append(100 - (distance * 100 / relevant_bits))\n",
    "    #data.append([round(alpha * 100) for alpha in alphas])\n",
    "    data.append(alphas)\n",
    "    data.append(simularity)\n",
    "    data.append(test_images[1]) # add label\n",
    "    return data"
   ]
  },
  {
   "cell_type": "code",
   "execution_count": 119,
   "id": "f9e6754a",
   "metadata": {},
   "outputs": [],
   "source": [
    "# Data interpolation images\n",
    "data_interpolation_images = compare_iscc_images(original_iscc, interpolation_images, alphas)\n",
    "# Data additive images\n",
    "data_additive_images = compare_iscc_images(original_iscc, additive_images, alphas)"
   ]
  },
  {
   "cell_type": "code",
   "execution_count": 120,
   "id": "44e2ae64",
   "metadata": {},
   "outputs": [
    {
     "data": {
      "text/plain": [
       "[0.0,\n",
       " 0.05,\n",
       " 0.1,\n",
       " 0.15,\n",
       " 0.2,\n",
       " 0.25,\n",
       " 0.3,\n",
       " 0.35,\n",
       " 0.4,\n",
       " 0.45,\n",
       " 0.5,\n",
       " 0.55,\n",
       " 0.6,\n",
       " 0.65,\n",
       " 0.7,\n",
       " 0.75,\n",
       " 0.8,\n",
       " 0.85,\n",
       " 0.9,\n",
       " 0.95,\n",
       " 1.0]"
      ]
     },
     "execution_count": 120,
     "metadata": {},
     "output_type": "execute_result"
    }
   ],
   "source": [
    "data_interpolation_images[0]"
   ]
  },
  {
   "cell_type": "code",
   "execution_count": 121,
   "id": "a0173896",
   "metadata": {},
   "outputs": [
    {
     "data": {
      "text/plain": [
       "[0.0,\n",
       " 0.05,\n",
       " 0.1,\n",
       " 0.15,\n",
       " 0.2,\n",
       " 0.25,\n",
       " 0.3,\n",
       " 0.35,\n",
       " 0.4,\n",
       " 0.45,\n",
       " 0.5,\n",
       " 0.55,\n",
       " 0.6,\n",
       " 0.65,\n",
       " 0.7,\n",
       " 0.75,\n",
       " 0.8,\n",
       " 0.85,\n",
       " 0.9,\n",
       " 0.95,\n",
       " 1.0]"
      ]
     },
     "execution_count": 121,
     "metadata": {},
     "output_type": "execute_result"
    }
   ],
   "source": [
    "data_additive_images[0]"
   ]
  },
  {
   "cell_type": "code",
   "execution_count": 122,
   "id": "dfcaf810",
   "metadata": {},
   "outputs": [
    {
     "data": {
      "text/plain": [
       "[100.0,\n",
       " 100.0,\n",
       " 100.0,\n",
       " 100.0,\n",
       " 100.0,\n",
       " 100.0,\n",
       " 100.0,\n",
       " 100.0,\n",
       " 100.0,\n",
       " 96.875,\n",
       " 100.0,\n",
       " 96.875,\n",
       " 100.0,\n",
       " 96.875,\n",
       " 100.0,\n",
       " 96.875,\n",
       " 96.875,\n",
       " 96.875,\n",
       " 93.75,\n",
       " 90.625,\n",
       " 43.75]"
      ]
     },
     "execution_count": 122,
     "metadata": {},
     "output_type": "execute_result"
    }
   ],
   "source": [
    "data_interpolation_images[1]"
   ]
  },
  {
   "cell_type": "code",
   "execution_count": 123,
   "id": "364e311a",
   "metadata": {},
   "outputs": [
    {
     "data": {
      "text/plain": [
       "[100.0,\n",
       " 100.0,\n",
       " 100.0,\n",
       " 100.0,\n",
       " 96.875,\n",
       " 100.0,\n",
       " 96.875,\n",
       " 100.0,\n",
       " 100.0,\n",
       " 100.0,\n",
       " 96.875,\n",
       " 96.875,\n",
       " 96.875,\n",
       " 100.0,\n",
       " 96.875,\n",
       " 96.875,\n",
       " 100.0,\n",
       " 100.0,\n",
       " 93.75,\n",
       " 100.0,\n",
       " 90.625]"
      ]
     },
     "execution_count": 123,
     "metadata": {},
     "output_type": "execute_result"
    }
   ],
   "source": [
    "data_additive_images[1]"
   ]
  },
  {
   "cell_type": "code",
   "execution_count": 124,
   "id": "63b27d5b",
   "metadata": {},
   "outputs": [
    {
     "data": {
      "text/plain": [
       "'interpolation'"
      ]
     },
     "execution_count": 124,
     "metadata": {},
     "output_type": "execute_result"
    }
   ],
   "source": [
    "data_interpolation_images[2]"
   ]
  },
  {
   "cell_type": "code",
   "execution_count": 125,
   "id": "d9f54882",
   "metadata": {},
   "outputs": [
    {
     "data": {
      "text/plain": [
       "'additive'"
      ]
     },
     "execution_count": 125,
     "metadata": {},
     "output_type": "execute_result"
    }
   ],
   "source": [
    "data_additive_images[2]"
   ]
  },
  {
   "cell_type": "code",
   "execution_count": 126,
   "id": "c4fea388",
   "metadata": {},
   "outputs": [
    {
     "data": {
      "image/png": "[encoded data removed]",
      "text/plain": [
       "<Figure size 1500x1000 with 1 Axes>"
      ]
     },
     "metadata": {},
     "output_type": "display_data"
    }
   ],
   "source": [
    "plt.figure(figsize=(15, 10))\n",
    "plt.plot(data_interpolation_images[0], data_interpolation_images[1], marker=\".\", label=f\"{data_interpolation_images[2]}\")\n",
    "plt.plot(data_additive_images[0], data_additive_images[1], marker=\".\", label=f\"{data_additive_images[2]}\")\n",
    "plt.title(\"ISCC content code noise resistance (grayscale)\")\n",
    "plt.xlabel(\"alpha\")\n",
    "plt.ylabel(\"similarity (%)\")\n",
    "plt.axhline(y=81.25, color='r', linestyle='--', label=f'similarity threshold 81.25')\n",
    "plt.legend()\n",
    "plt.grid(True)\n",
    "ax = plt.gca()\n",
    "ax.xaxis.set_major_locator(MultipleLocator(0.05))  # 0.05 Schritte auf der X-Achse\n",
    "ax.yaxis.set_major_locator(MultipleLocator(10))   # z.B. 0.1 Schritte auf der Y-Achse\n",
    "ax.set_xlim(0.0, 1.0)\n",
    "plt.show()"
   ]
  }
 ],
 "metadata": {
  "kernelspec": {
   "display_name": "iscc_test",
   "language": "python",
   "name": "python3"
  },
  "language_info": {
   "codemirror_mode": {
    "name": "ipython",
    "version": 3
   },
   "file_extension": ".py",
   "mimetype": "text/x-python",
   "name": "python",
   "nbconvert_exporter": "python",
   "pygments_lexer": "ipython3",
   "version": "3.13.7"
  }
 },
 "nbformat": 4,
 "nbformat_minor": 5
}
